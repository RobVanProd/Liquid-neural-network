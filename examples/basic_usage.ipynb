{
 "cells": [
  {
   "cell_type": "markdown",
   "metadata": {},
   "source": [
    "# Liquid Neural Network Basic Usage\n",
    "\n",
    "This notebook demonstrates the basic usage of the Liquid Neural Network package."
   ]
  },
  {
   "cell_type": "code",
   "execution_count": null,
   "metadata": {},
   "source": [
    "import torch\n",
    "import numpy as np\n",
    "from liquid_neural_network import LiquidS4Model, CfCModel\n",
    "import matplotlib.pyplot as plt\n",
    "%matplotlib inline"
   ]
  },
  {
   "cell_type": "markdown",
   "metadata": {},
   "source": [
    "## 1. Creating a Simple Model\n",
    "\n",
    "Let's create a basic Liquid S4 model for sequence prediction."
   ]
  },
  {
   "cell_type": "code",
   "execution_count": null,
   "metadata": {},
   "source": [
    "# Model parameters\n",
    "input_size = 10\n",
    "hidden_size = 64\n",
    "output_size = 10\n",
    "\n",
    "# Create model\n",
    "model = LiquidS4Model(input_size, hidden_size, output_size)\n",
    "print(model)"
   ]
  },
  {
   "cell_type": "markdown",
   "metadata": {},
   "source": [
    "## 2. Generating Synthetic Data\n",
    "\n",
    "We'll create some synthetic sequential data for demonstration."
   ]
  },
  {
   "cell_type": "code",
   "execution_count": null,
   "metadata": {},
   "source": [
    "def generate_sequence_data(batch_size, seq_length, input_size):\n",
    "    # Generate sinusoidal data\n",
    "    t = torch.linspace(0, 4*np.pi, seq_length).unsqueeze(0).unsqueeze(-1)\n",
    "    frequencies = torch.randn(batch_size, 1, 1) * 0.5 + 1.0\n",
    "    \n",
    "    # Create input sequences\n",
    "    x = torch.cat([\n",
    "        torch.sin(frequencies * t),\n",
    "        torch.sin(2 * frequencies * t),\n",
    "        torch.cos(frequencies * t)\n",
    "    ], dim=-1)\n",
    "    \n",
    "    if input_size > x.size(-1):\n",
    "        x = torch.cat([x] * (input_size // x.size(-1) + 1), dim=-1)\n",
    "        x = x[:, :, :input_size]\n",
    "    \n",
    "    # Target is next-step prediction\n",
    "    y = torch.roll(x, shifts=-1, dims=1)\n",
    "    y[:, -1, :] = 0\n",
    "    \n",
    "    return x, y\n",
    "\n",
    "# Generate data\n",
    "batch_size = 32\n",
    "seq_length = 100\n",
    "x, y = generate_sequence_data(batch_size, seq_length, input_size)\n",
    "\n",
    "# Plot example sequence\n",
    "plt.figure(figsize=(12, 4))\n",
    "plt.plot(x[0, :, 0].detach().numpy())\n",
    "plt.title('Example Input Sequence')\n",
    "plt.show()"
   ]
  },
  {
   "cell_type": "markdown",
   "metadata": {},
   "source": [
    "## 3. Training the Model\n",
    "\n",
    "Now let's train our model on the synthetic data."
   ]
  },
  {
   "cell_type": "code",
   "execution_count": null,
   "metadata": {},
   "source": [
    "# Training parameters\n",
    "optimizer = torch.optim.Adam(model.parameters(), lr=0.001)\n",
    "criterion = torch.nn.MSELoss()\n",
    "n_epochs = 100\n",
    "\n",
    "# Training loop\n",
    "losses = []\n",
    "for epoch in range(n_epochs):\n",
    "    optimizer.zero_grad()\n",
    "    \n",
    "    # Forward pass\n",
    "    output = model(x)\n",
    "    loss = criterion(output, y)\n",
    "    \n",
    "    # Backward pass\n",
    "    loss.backward()\n",
    "    optimizer.step()\n",
    "    \n",
    "    losses.append(loss.item())\n",
    "    \n",
    "    if (epoch + 1) % 10 == 0:\n",
    "        print(f'Epoch [{epoch+1}/{n_epochs}], Loss: {loss.item():.4f}')\n",
    "\n",
    "# Plot training loss\n",
    "plt.figure(figsize=(10, 4))\n",
    "plt.plot(losses)\n",
    "plt.title('Training Loss')\n",
    "plt.xlabel('Epoch')\n",
    "plt.ylabel('Loss')\n",
    "plt.yscale('log')\n",
    "plt.show()"
   ]
  },
  {
   "cell_type": "markdown",
   "metadata": {},
   "source": [
    "## 4. Model Evaluation\n",
    "\n",
    "Let's evaluate our trained model."
   ]
  },
  {
   "cell_type": "code",
   "execution_count": null,
   "metadata": {},
   "source": [
    "# Generate test data\n",
    "x_test, y_test = generate_sequence_data(1, seq_length, input_size)\n",
    "\n",
    "# Get predictions\n",
    "model.eval()\n",
    "with torch.no_grad():\n",
    "    y_pred = model(x_test)\n",
    "\n",
    "# Plot results\n",
    "plt.figure(figsize=(12, 4))\n",
    "plt.plot(x_test[0, :, 0].numpy(), label='Input')\n",
    "plt.plot(y_test[0, :, 0].numpy(), label='Target')\n",
    "plt.plot(y_pred[0, :, 0].numpy(), label='Prediction')\n",
    "plt.title('Model Predictions vs Target')\n",
    "plt.legend()\n",
    "plt.show()"
   ]
  },
  {
   "cell_type": "markdown",
   "metadata": {},
   "source": [
    "## 5. Using the CfC Model\n",
    "\n",
    "Let's also try the Closed-form Continuous-time (CfC) model."
   ]
  },
  {
   "cell_type": "code",
   "execution_count": null,
   "metadata": {},
   "source": [
    "# Create and train CfC model\n",
    "cfc_model = CfCModel(input_size, hidden_size, output_size)\n",
    "optimizer = torch.optim.Adam(cfc_model.parameters(), lr=0.001)\n",
    "\n",
    "# Training loop\n",
    "for epoch in range(n_epochs):\n",
    "    optimizer.zero_grad()\n",
    "    \n",
    "    # Forward pass\n",
    "    output, _ = cfc_model(x)\n",
    "    loss = criterion(output, y)\n",
    "    \n",
    "    # Backward pass\n",
    "    loss.backward()\n",
    "    optimizer.step()\n",
    "    \n",
    "    if (epoch + 1) % 10 == 0:\n",
    "        print(f'Epoch [{epoch+1}/{n_epochs}], Loss: {loss.item():.4f}')\n",
    "\n",
    "# Evaluate CfC model\n",
    "cfc_model.eval()\n",
    "with torch.no_grad():\n",
    "    y_pred_cfc, _ = cfc_model(x_test)\n",
    "\n",
    "# Plot results\n",
    "plt.figure(figsize=(12, 4))\n",
    "plt.plot(x_test[0, :, 0].numpy(), label='Input')\n",
    "plt.plot(y_test[0, :, 0].numpy(), label='Target')\n",
    "plt.plot(y_pred_cfc[0, :, 0].numpy(), label='CfC Prediction')\n",
    "plt.title('CfC Model Predictions vs Target')\n",
    "plt.legend()\n",
    "plt.show()"
   ]
  }
 ],
 "metadata": {
  "kernelspec": {
   "display_name": "Python 3",
   "language": "python",
   "name": "python3"
  },
  "language_info": {
   "codemirror_mode": {
    "name": "ipython",
    "version": 3
   },
   "file_extension": ".py",
   "mimetype": "text/x-python",
   "name": "python",
   "nbconvert_exporter": "python",
   "pygments_lexer": "ipython3",
   "version": "3.8.0"
  }
 },
 "nbformat": 4,
 "nbformat_minor": 4
}
